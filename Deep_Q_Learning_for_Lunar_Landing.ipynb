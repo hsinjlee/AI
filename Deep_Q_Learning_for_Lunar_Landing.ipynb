{
  "cells": [
    {
      "cell_type": "markdown",
      "metadata": {
        "id": "view-in-github",
        "colab_type": "text"
      },
      "source": [
        "<a href=\"https://colab.research.google.com/github/hsinjlee/AI/blob/main/Deep_Q_Learning_for_Lunar_Landing.ipynb\" target=\"_parent\"><img src=\"https://colab.research.google.com/assets/colab-badge.svg\" alt=\"Open In Colab\"/></a>"
      ]
    },
    {
      "cell_type": "markdown",
      "metadata": {
        "id": "LbZcI9ZXHl3a"
      },
      "source": [
        "# Deep Q-Learning for Lunar Landing"
      ]
    },
    {
      "cell_type": "markdown",
      "metadata": {
        "id": "E8yPRjteXgPb"
      },
      "source": [
        "## Part 0 - Installing the required packages and importing the libraries"
      ]
    },
    {
      "cell_type": "markdown",
      "metadata": {
        "id": "slEm5teGWjWU"
      },
      "source": [
        "### Installing Gymnasium"
      ]
    },
    {
      "cell_type": "code",
      "execution_count": 1,
      "metadata": {
        "id": "dbnq3XpoKa_7",
        "colab": {
          "base_uri": "https://localhost:8080/"
        },
        "outputId": "79b4a565-a0a6-45ab-af04-7c2a40775b56"
      },
      "outputs": [
        {
          "output_type": "stream",
          "name": "stdout",
          "text": [
            "Requirement already satisfied: gymnasium in /usr/local/lib/python3.10/dist-packages (0.29.1)\n",
            "Requirement already satisfied: numpy>=1.21.0 in /usr/local/lib/python3.10/dist-packages (from gymnasium) (1.26.4)\n",
            "Requirement already satisfied: cloudpickle>=1.2.0 in /usr/local/lib/python3.10/dist-packages (from gymnasium) (2.2.1)\n",
            "Requirement already satisfied: typing-extensions>=4.3.0 in /usr/local/lib/python3.10/dist-packages (from gymnasium) (4.12.2)\n",
            "Requirement already satisfied: farama-notifications>=0.0.1 in /usr/local/lib/python3.10/dist-packages (from gymnasium) (0.0.4)\n",
            "Requirement already satisfied: gymnasium[accept-rom-license,atari] in /usr/local/lib/python3.10/dist-packages (0.29.1)\n",
            "Requirement already satisfied: numpy>=1.21.0 in /usr/local/lib/python3.10/dist-packages (from gymnasium[accept-rom-license,atari]) (1.26.4)\n",
            "Requirement already satisfied: cloudpickle>=1.2.0 in /usr/local/lib/python3.10/dist-packages (from gymnasium[accept-rom-license,atari]) (2.2.1)\n",
            "Requirement already satisfied: typing-extensions>=4.3.0 in /usr/local/lib/python3.10/dist-packages (from gymnasium[accept-rom-license,atari]) (4.12.2)\n",
            "Requirement already satisfied: farama-notifications>=0.0.1 in /usr/local/lib/python3.10/dist-packages (from gymnasium[accept-rom-license,atari]) (0.0.4)\n",
            "Requirement already satisfied: autorom~=0.4.2 in /usr/local/lib/python3.10/dist-packages (from autorom[accept-rom-license]~=0.4.2; extra == \"accept-rom-license\"->gymnasium[accept-rom-license,atari]) (0.4.2)\n",
            "Requirement already satisfied: shimmy<1.0,>=0.1.0 in /usr/local/lib/python3.10/dist-packages (from shimmy[atari]<1.0,>=0.1.0; extra == \"atari\"->gymnasium[accept-rom-license,atari]) (0.2.1)\n",
            "Requirement already satisfied: click in /usr/local/lib/python3.10/dist-packages (from autorom~=0.4.2->autorom[accept-rom-license]~=0.4.2; extra == \"accept-rom-license\"->gymnasium[accept-rom-license,atari]) (8.1.7)\n",
            "Requirement already satisfied: requests in /usr/local/lib/python3.10/dist-packages (from autorom~=0.4.2->autorom[accept-rom-license]~=0.4.2; extra == \"accept-rom-license\"->gymnasium[accept-rom-license,atari]) (2.32.3)\n",
            "Requirement already satisfied: tqdm in /usr/local/lib/python3.10/dist-packages (from autorom~=0.4.2->autorom[accept-rom-license]~=0.4.2; extra == \"accept-rom-license\"->gymnasium[accept-rom-license,atari]) (4.66.5)\n",
            "Requirement already satisfied: AutoROM.accept-rom-license in /usr/local/lib/python3.10/dist-packages (from autorom[accept-rom-license]~=0.4.2; extra == \"accept-rom-license\"->gymnasium[accept-rom-license,atari]) (0.6.1)\n",
            "Requirement already satisfied: ale-py~=0.8.1 in /usr/local/lib/python3.10/dist-packages (from shimmy[atari]<1.0,>=0.1.0; extra == \"atari\"->gymnasium[accept-rom-license,atari]) (0.8.1)\n",
            "Requirement already satisfied: importlib-resources in /usr/local/lib/python3.10/dist-packages (from ale-py~=0.8.1->shimmy[atari]<1.0,>=0.1.0; extra == \"atari\"->gymnasium[accept-rom-license,atari]) (6.4.2)\n",
            "Requirement already satisfied: charset-normalizer<4,>=2 in /usr/local/lib/python3.10/dist-packages (from requests->autorom~=0.4.2->autorom[accept-rom-license]~=0.4.2; extra == \"accept-rom-license\"->gymnasium[accept-rom-license,atari]) (3.3.2)\n",
            "Requirement already satisfied: idna<4,>=2.5 in /usr/local/lib/python3.10/dist-packages (from requests->autorom~=0.4.2->autorom[accept-rom-license]~=0.4.2; extra == \"accept-rom-license\"->gymnasium[accept-rom-license,atari]) (3.7)\n",
            "Requirement already satisfied: urllib3<3,>=1.21.1 in /usr/local/lib/python3.10/dist-packages (from requests->autorom~=0.4.2->autorom[accept-rom-license]~=0.4.2; extra == \"accept-rom-license\"->gymnasium[accept-rom-license,atari]) (2.0.7)\n",
            "Requirement already satisfied: certifi>=2017.4.17 in /usr/local/lib/python3.10/dist-packages (from requests->autorom~=0.4.2->autorom[accept-rom-license]~=0.4.2; extra == \"accept-rom-license\"->gymnasium[accept-rom-license,atari]) (2024.7.4)\n",
            "Reading package lists... Done\n",
            "Building dependency tree... Done\n",
            "Reading state information... Done\n",
            "swig is already the newest version (4.0.2-1ubuntu1).\n",
            "0 upgraded, 0 newly installed, 0 to remove and 45 not upgraded.\n",
            "Requirement already satisfied: gymnasium[box2d] in /usr/local/lib/python3.10/dist-packages (0.29.1)\n",
            "Requirement already satisfied: numpy>=1.21.0 in /usr/local/lib/python3.10/dist-packages (from gymnasium[box2d]) (1.26.4)\n",
            "Requirement already satisfied: cloudpickle>=1.2.0 in /usr/local/lib/python3.10/dist-packages (from gymnasium[box2d]) (2.2.1)\n",
            "Requirement already satisfied: typing-extensions>=4.3.0 in /usr/local/lib/python3.10/dist-packages (from gymnasium[box2d]) (4.12.2)\n",
            "Requirement already satisfied: farama-notifications>=0.0.1 in /usr/local/lib/python3.10/dist-packages (from gymnasium[box2d]) (0.0.4)\n",
            "Requirement already satisfied: box2d-py==2.3.5 in /usr/local/lib/python3.10/dist-packages (from gymnasium[box2d]) (2.3.5)\n",
            "Requirement already satisfied: pygame>=2.1.3 in /usr/local/lib/python3.10/dist-packages (from gymnasium[box2d]) (2.6.0)\n",
            "Requirement already satisfied: swig==4.* in /usr/local/lib/python3.10/dist-packages (from gymnasium[box2d]) (4.2.1)\n"
          ]
        }
      ],
      "source": [
        "!pip install gymnasium\n",
        "!pip install \"gymnasium[atari, accept-rom-license]\"\n",
        "!apt-get install -y swig\n",
        "!pip install gymnasium[box2d]"
      ]
    },
    {
      "cell_type": "markdown",
      "metadata": {
        "id": "brqiMN3UW9T9"
      },
      "source": [
        "### Importing the libraries"
      ]
    },
    {
      "cell_type": "code",
      "execution_count": 2,
      "metadata": {
        "id": "mZaKXP_aMl9O"
      },
      "outputs": [],
      "source": [
        "import os\n",
        "import random\n",
        "import numpy as np\n",
        "import torch\n",
        "import torch.nn as nn\n",
        "import torch.optim as optim\n",
        "import torch.nn.functional as F\n",
        "import torch.autograd as autograd\n",
        "from torch.autograd import Variable\n",
        "from collections import deque, namedtuple"
      ]
    },
    {
      "cell_type": "markdown",
      "metadata": {
        "id": "EzlDKXvkXzGI"
      },
      "source": [
        "## Part 1 - Building the AI"
      ]
    },
    {
      "cell_type": "markdown",
      "metadata": {
        "id": "UtG6Zc83YYy3"
      },
      "source": [
        "### Creating the architecture of the Neural Network"
      ]
    },
    {
      "cell_type": "code",
      "source": [
        "class Network(nn.Module):\n",
        "\n",
        "  def __init__(self, state_size, action_size, seed = 42):\n",
        "    super(Network, self).__init__()\n",
        "    self.seed = torch.manual_seed(seed)\n",
        "    self.fc1 = nn.Linear(state_size, 64)\n",
        "    self.fc2 = nn.Linear(64, 64)\n",
        "    self.fc3 = nn.Linear(64, action_size)\n",
        "\n",
        "  def forward(self, state):\n",
        "    x = self.fc1(state)\n",
        "    x = F.relu(x)\n",
        "    x = self.fc2(x)\n",
        "    x = F.relu(x)\n",
        "    return self.fc3(x)"
      ],
      "metadata": {
        "id": "h9oUxasLEJx9"
      },
      "execution_count": 3,
      "outputs": []
    },
    {
      "cell_type": "markdown",
      "metadata": {
        "id": "UxVrBnFWZKb1"
      },
      "source": [
        "## Part 2 - Training the AI"
      ]
    },
    {
      "cell_type": "markdown",
      "metadata": {
        "id": "T364fz9qZb2j"
      },
      "source": [
        "### Setting up the environment"
      ]
    },
    {
      "cell_type": "code",
      "source": [
        "import gymnasium as gym\n",
        "env = gym.make('LunarLander-v2')\n",
        "state_shape = env.observation_space.shape\n",
        "state_size = env.observation_space.shape[0]\n",
        "number_actions = env.action_space.n\n",
        "print('State shape: ', state_shape)\n",
        "print('State size: ', state_size)\n",
        "print('Number of actions: ', number_actions)"
      ],
      "metadata": {
        "colab": {
          "base_uri": "https://localhost:8080/"
        },
        "id": "NUWiCFWySXIh",
        "outputId": "a7ba3ce7-308e-4737-9127-a4a435c6740c"
      },
      "execution_count": 4,
      "outputs": [
        {
          "output_type": "stream",
          "name": "stdout",
          "text": [
            "State shape:  (8,)\n",
            "State size:  8\n",
            "Number of actions:  4\n"
          ]
        }
      ]
    },
    {
      "cell_type": "markdown",
      "metadata": {
        "id": "c_dZmOIvZgj-"
      },
      "source": [
        "### Initializing the hyperparameters"
      ]
    },
    {
      "cell_type": "code",
      "source": [
        "learning_rate = 5e-4\n",
        "minibatch_size = 100\n",
        "discount_factor = 0.99\n",
        "replay_buffer_size = int(1e5)\n",
        "interpolation_parameter = 1e-3"
      ],
      "metadata": {
        "id": "bNKnUzj1Oqz8",
        "colab": {
          "base_uri": "https://localhost:8080/"
        },
        "outputId": "2b198015-4753-464a-fcb6-730384e1a101"
      },
      "execution_count": 5,
      "outputs": [
        {
          "output_type": "stream",
          "name": "stderr",
          "text": [
            "/usr/local/lib/python3.10/dist-packages/ipykernel/ipkernel.py:283: DeprecationWarning: `should_run_async` will not call `transform_cell` automatically in the future. Please pass the result to `transformed_cell` argument and any exception that happen during thetransform in `preprocessing_exc_tuple` in IPython 7.17 and above.\n",
            "  and should_run_async(code)\n"
          ]
        }
      ]
    },
    {
      "cell_type": "markdown",
      "metadata": {
        "id": "8hD_Vs-bYnip"
      },
      "source": [
        "### Implementing Experience Replay"
      ]
    },
    {
      "cell_type": "code",
      "source": [
        "class ReplayMemory(object):\n",
        "\n",
        "  def __init__(self, capacity):\n",
        "    self.device = torch.device(\"cuda:0\" if torch.cuda.is_available() else \"cpu\")\n",
        "    self.capacity = capacity\n",
        "    self.memory = []\n",
        "\n",
        "  def push(self, event):\n",
        "    self.memory.append(event)\n",
        "    if len(self.memory) > self.capacity:\n",
        "      del self.memory[0]\n",
        "\n",
        "  def sample(self, batch_size):\n",
        "    experiences = random.sample(self.memory, k = batch_size)\n",
        "    states = torch.from_numpy(np.vstack([e[0] for e in experiences if e is not None])).float().to(self.device)\n",
        "    actions = torch.from_numpy(np.vstack([e[1] for e in experiences if e is not None])).long().to(self.device)\n",
        "    rewards = torch.from_numpy(np.vstack([e[2] for e in experiences if e is not None])).float().to(self.device)\n",
        "    next_states = torch.from_numpy(np.vstack([e[3] for e in experiences if e is not None])).float().to(self.device)\n",
        "    dones = torch.from_numpy(np.vstack([e[4] for e in experiences if e is not None]).astype(np.uint8)).float().to(self.device)\n",
        "    return states, next_states, actions, rewards, dones\n"
      ],
      "metadata": {
        "id": "QaEChoj_uRoe"
      },
      "execution_count": 6,
      "outputs": []
    },
    {
      "cell_type": "markdown",
      "metadata": {
        "id": "JmEkbFbUY6Jt"
      },
      "source": [
        "### Implementing the DQN class"
      ]
    },
    {
      "cell_type": "code",
      "source": [
        "class Agent():\n",
        "\n",
        "  def __init__(self, state_size, action_size):\n",
        "    self.device = torch.device(\"cuda:0\" if torch.cuda.is_available() else \"cpu\")\n",
        "    self.state_size = state_size\n",
        "    self.action_size = action_size\n",
        "    self.local_qnetwork = Network(state_size, action_size).to(self.device)\n",
        "    self.target_qnetwork = Network(state_size, action_size).to(self.device)\n",
        "    self.optimizer = optim.Adam(self.local_qnetwork.parameters(), lr = learning_rate)\n",
        "    self.memory = ReplayMemory(replay_buffer_size)\n",
        "    self.t_step = 0\n",
        "\n",
        "  def step(self, state, action, reward, next_state, done):\n",
        "    self.memory.push((state, action, reward, next_state, done))\n",
        "    self.t_step = (self.t_step + 1) % 4\n",
        "    if self.t_step == 0:\n",
        "      if len(self.memory.memory) > minibatch_size:\n",
        "        experiences = self.memory.sample(100)\n",
        "        self.learn(experiences, discount_factor)\n",
        "\n",
        "  def act(self, state, epsilon = 0.):\n",
        "    state = torch.from_numpy(state).float().unsqueeze(0).to(self.device)\n",
        "    self.local_qnetwork.eval()\n",
        "    with torch.no_grad():\n",
        "      action_values = self.local_qnetwork(state)\n",
        "    self.local_qnetwork.train()\n",
        "    if random.random() > epsilon:\n",
        "      return np.argmax(action_values.cpu().data.numpy())\n",
        "    else:\n",
        "      return random.choice(np.arange(self.action_size))\n",
        "\n",
        "  def learn(self, experiences, discount_factor):\n",
        "    states, next_states, actions, rewards, dones = experiences\n",
        "    next_q_targets = self.target_qnetwork(next_states).detach().max(1)[0].unsqueeze(1)\n",
        "    q_targets = rewards + discount_factor * next_q_targets * (1 - dones)\n",
        "    q_expected = self.local_qnetwork(states).gather(1, actions)\n",
        "    loss = F.mse_loss(q_expected, q_targets)\n",
        "    self.optimizer.zero_grad()\n",
        "    loss.backward()\n",
        "    self.optimizer.step()\n",
        "    self.soft_update(self.local_qnetwork, self.target_qnetwork, interpolation_parameter)\n",
        "\n",
        "  def soft_update(self, local_model, target_model, interpolation_parameter):\n",
        "    for target_param, local_param in zip(target_model.parameters(), local_model.parameters()):\n",
        "      target_param.data.copy_(interpolation_parameter * local_param.data + (1.0 - interpolation_parameter) * target_param.data)\n"
      ],
      "metadata": {
        "id": "iokmjTKJ9E3U"
      },
      "execution_count": 7,
      "outputs": []
    },
    {
      "cell_type": "markdown",
      "metadata": {
        "id": "o1tZElccZmf6"
      },
      "source": [
        "### Initializing the DQN agent"
      ]
    },
    {
      "cell_type": "code",
      "source": [
        "agent = Agent(state_size, number_actions)"
      ],
      "metadata": {
        "id": "cGbpJJvLjmIw"
      },
      "execution_count": 8,
      "outputs": []
    },
    {
      "cell_type": "markdown",
      "metadata": {
        "id": "E8v0PtUfaVQp"
      },
      "source": [
        "### Training the DQN agent"
      ]
    },
    {
      "cell_type": "code",
      "source": [
        "number_episodes = 2000\n",
        "maximum_number_timesteps_per_episode = 1000\n",
        "epsilon_starting_value  = 1.0\n",
        "epsilon_ending_value  = 0.01\n",
        "epsilon_decay_value  = 0.995\n",
        "epsilon = epsilon_starting_value\n",
        "scores_on_100_episodes = deque(maxlen = 100)\n",
        "\n",
        "for episode in range(1, number_episodes + 1):\n",
        "  state, _ = env.reset()\n",
        "  score = 0\n",
        "  for t in range(maximum_number_timesteps_per_episode):\n",
        "    action = agent.act(state, epsilon)\n",
        "    next_state, reward, done, _, _ = env.step(action)\n",
        "    agent.step(state, action, reward, next_state, done)\n",
        "    state = next_state\n",
        "    score += reward\n",
        "    if done:\n",
        "      break\n",
        "  scores_on_100_episodes.append(score)\n",
        "  epsilon = max(epsilon_ending_value, epsilon_decay_value * epsilon)\n",
        "  print('\\rEpisode {}\\tAverage Score: {:.2f}'.format(episode, np.mean(scores_on_100_episodes)), end = \"\")\n",
        "  if episode % 100 == 0:\n",
        "    print('\\rEpisode {}\\tAverage Score: {:.2f}'.format(episode, np.mean(scores_on_100_episodes)))\n",
        "  if np.mean(scores_on_100_episodes) >= 200.0:\n",
        "    print('\\nEnvironment solved in {:d} episodes!\\tAverage Score: {:.2f}'.format(episode - 100, np.mean(scores_on_100_episodes)))\n",
        "    torch.save(agent.local_qnetwork.state_dict(), 'checkpoint.pth')\n",
        "    break\n",
        ""
      ],
      "metadata": {
        "colab": {
          "base_uri": "https://localhost:8080/"
        },
        "id": "2ybZW6Im-Bwj",
        "outputId": "3d1b4df6-ce96-49b7-eff5-0dd67b0fabe2"
      },
      "execution_count": 9,
      "outputs": [
        {
          "output_type": "stream",
          "name": "stderr",
          "text": [
            "/usr/local/lib/python3.10/dist-packages/ipykernel/ipkernel.py:283: DeprecationWarning: `should_run_async` will not call `transform_cell` automatically in the future. Please pass the result to `transformed_cell` argument and any exception that happen during thetransform in `preprocessing_exc_tuple` in IPython 7.17 and above.\n",
            "  and should_run_async(code)\n"
          ]
        },
        {
          "output_type": "stream",
          "name": "stdout",
          "text": [
            "Episode 100\tAverage Score: -149.02\n",
            "Episode 200\tAverage Score: -106.07\n",
            "Episode 300\tAverage Score: -55.20\n",
            "Episode 400\tAverage Score: -14.79\n",
            "Episode 500\tAverage Score: 91.11\n",
            "Episode 600\tAverage Score: 111.79\n",
            "Episode 700\tAverage Score: 138.60\n",
            "Episode 800\tAverage Score: 197.14\n",
            "Episode 822\tAverage Score: 200.66\n",
            "Environment solved in 722 episodes!\tAverage Score: 200.66\n"
          ]
        }
      ]
    },
    {
      "cell_type": "markdown",
      "metadata": {
        "id": "O8CNwdOTcCoP"
      },
      "source": [
        "## Part 3 - Visualizing the results"
      ]
    },
    {
      "cell_type": "code",
      "execution_count": 10,
      "metadata": {
        "id": "cb9nVvU2Okhk",
        "colab": {
          "base_uri": "https://localhost:8080/",
          "height": 459
        },
        "outputId": "e114504b-98ac-4824-b516-4bbcf3312130"
      },
      "outputs": [
        {
          "output_type": "stream",
          "name": "stderr",
          "text": [
            "WARNING:imageio_ffmpeg:IMAGEIO FFMPEG_WRITER WARNING: input image is not divisible by macro_block_size=16, resizing from (600, 400) to (608, 400) to ensure video compatibility with most codecs and players. To prevent resizing, make your input image divisible by the macro_block_size or set the macro_block_size to 1 (risking incompatibility).\n"
          ]
        },
        {
          "output_type": "display_data",
          "data": {
            "text/plain": [
              "<IPython.core.display.HTML object>"
            ],
            "text/html": [
              "<video alt=\"test\" autoplay\n",
              "                loop controls style=\"height: 400px;\">\n",
              "                <source src=\"data:video/mp4;base64,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\" type=\"video/mp4\" />\n",
              "             </video>"
            ]
          },
          "metadata": {}
        }
      ],
      "source": [
        "import glob\n",
        "import io\n",
        "import base64\n",
        "import imageio\n",
        "from IPython.display import HTML, display\n",
        "from gym.wrappers.monitoring.video_recorder import VideoRecorder\n",
        "\n",
        "def show_video_of_model(agent, env_name):\n",
        "    env = gym.make(env_name, render_mode='rgb_array')\n",
        "    state, _ = env.reset()\n",
        "    done = False\n",
        "    frames = []\n",
        "    while not done:\n",
        "        frame = env.render()\n",
        "        frames.append(frame)\n",
        "        action = agent.act(state)\n",
        "        state, reward, done, _, _ = env.step(action.item())\n",
        "    env.close()\n",
        "    imageio.mimsave('video.mp4', frames, fps=30)\n",
        "\n",
        "show_video_of_model(agent, 'LunarLander-v2')\n",
        "\n",
        "def show_video():\n",
        "    mp4list = glob.glob('*.mp4')\n",
        "    if len(mp4list) > 0:\n",
        "        mp4 = mp4list[0]\n",
        "        video = io.open(mp4, 'r+b').read()\n",
        "        encoded = base64.b64encode(video)\n",
        "        display(HTML(data='''<video alt=\"test\" autoplay\n",
        "                loop controls style=\"height: 400px;\">\n",
        "                <source src=\"data:video/mp4;base64,{0}\" type=\"video/mp4\" />\n",
        "             </video>'''.format(encoded.decode('ascii'))))\n",
        "    else:\n",
        "        print(\"Could not find video\")\n",
        "\n",
        "show_video()"
      ]
    }
  ],
  "metadata": {
    "colab": {
      "provenance": [],
      "include_colab_link": true
    },
    "kernelspec": {
      "display_name": "Python 3",
      "name": "python3"
    },
    "language_info": {
      "name": "python"
    }
  },
  "nbformat": 4,
  "nbformat_minor": 0
}